{
 "cells": [
  {
   "cell_type": "code",
   "execution_count": null,
   "id": "initial_id",
   "metadata": {
    "ExecuteTime": {
     "end_time": "2024-12-18T20:36:22.131367Z",
     "start_time": "2024-12-18T20:35:55.128639Z"
    },
    "collapsed": true
   },
   "outputs": [],
   "source": [
    "import sys\n",
    "sys.path.insert(0, '../tools')\n",
    "\n",
    "# preprocess data (too big to fit on GitHub)\n",
    "import run_all\n",
    "run_all.main()"
   ]
  },
  {
   "cell_type": "code",
   "execution_count": null,
   "id": "6ff28de1c685ef1",
   "metadata": {},
   "outputs": [],
   "source": [
    "# run the ML model\n",
    "import ml_model\n",
    "ml_model.main()"
   ]
  },
  {
   "cell_type": "code",
   "execution_count": null,
   "id": "5723f42b",
   "metadata": {},
   "outputs": [],
   "source": [
    "# letter frequency analysis\n",
    "\n",
    "import letter_freq\n",
    "\n",
    "letter_freq.main()"
   ]
  }
 ],
 "metadata": {
  "kernelspec": {
   "display_name": "Python 3",
   "language": "python",
   "name": "python3"
  },
  "language_info": {
   "codemirror_mode": {
    "name": "ipython",
    "version": 3
   },
   "file_extension": ".py",
   "mimetype": "text/x-python",
   "name": "python",
   "nbconvert_exporter": "python",
   "pygments_lexer": "ipython3",
   "version": "3.10.0"
  }
 },
 "nbformat": 4,
 "nbformat_minor": 5
}
