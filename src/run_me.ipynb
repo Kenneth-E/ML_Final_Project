{
 "cells": [
  {
   "cell_type": "code",
   "execution_count": 1,
   "id": "initial_id",
   "metadata": {
    "ExecuteTime": {
     "end_time": "2024-12-18T20:36:22.131367Z",
     "start_time": "2024-12-18T20:35:55.128639Z"
    },
    "collapsed": true
   },
   "outputs": [
    {
     "name": "stdout",
     "output_type": "stream",
     "text": [
      "beginning create_random_keyboard_mash_texts.py\n",
      "../data/raw/words/keyboard_mash_words.txt -> ../data/utterances/keyboard_mash_sentences.txt\n",
      "../data/raw/words/keyboard_mash_words.txt -> ../data/utterances/keyboard_mash_sentences_dvorak_simulated.txt\n",
      "../data/raw/words/random_words.txt -> ../data/utterances/random_sentences.txt\n",
      "ending create_random_keyboard_mash_texts.py\n",
      "beginning create_adjacency_matrix.py\n",
      "building adjacency matrix\n",
      "writing to disk\n",
      "summary\n",
      "skipped_lines: 0\n",
      "INPUT_FILENAME: ../data/utterances/keyboard_mash_sentences.txt\n",
      "OUTPUT_FILENAME: ../data/adjacency_matrices/keyboard_mash_adjacency.csv\n",
      "---------\n",
      "building adjacency matrix\n",
      "writing to disk\n",
      "summary\n",
      "skipped_lines: 0\n",
      "INPUT_FILENAME: ../data/utterances/keyboard_mash_sentences_dvorak_simulated.txt\n",
      "OUTPUT_FILENAME: ../data/adjacency_matrices/keyboard_mash_sentences_dvorak_simulated.csv\n",
      "---------\n",
      "building adjacency matrix\n"
     ]
    },
    {
     "ename": "KeyboardInterrupt",
     "evalue": "",
     "output_type": "error",
     "traceback": [
      "\u001b[1;31m---------------------------------------------------------------------------\u001b[0m",
      "\u001b[1;31mKeyboardInterrupt\u001b[0m                         Traceback (most recent call last)",
      "Cell \u001b[1;32mIn[1], line 3\u001b[0m\n\u001b[0;32m      1\u001b[0m \u001b[38;5;28;01mimport\u001b[39;00m \u001b[38;5;21;01msys\u001b[39;00m\n\u001b[0;32m      2\u001b[0m sys\u001b[38;5;241m.\u001b[39mpath\u001b[38;5;241m.\u001b[39minsert(\u001b[38;5;241m0\u001b[39m, \u001b[38;5;124m'\u001b[39m\u001b[38;5;124m../tools\u001b[39m\u001b[38;5;124m'\u001b[39m)\n\u001b[1;32m----> 3\u001b[0m \u001b[38;5;28;01mimport\u001b[39;00m \u001b[38;5;21;01mrun_all\u001b[39;00m\n",
      "File \u001b[1;32m~\\Documents\\GitHub\\ML_Final_Project\\src\\../tools\\run_all.py:6\u001b[0m\n\u001b[0;32m      3\u001b[0m \u001b[38;5;28;01mimport\u001b[39;00m \u001b[38;5;21;01mcreate_overall_feature_file\u001b[39;00m \u001b[38;5;28;01mas\u001b[39;00m \u001b[38;5;21;01mfeatures\u001b[39;00m\n\u001b[0;32m      5\u001b[0m mash\u001b[38;5;241m.\u001b[39mmain()\n\u001b[1;32m----> 6\u001b[0m \u001b[43mmatrix\u001b[49m\u001b[38;5;241;43m.\u001b[39;49m\u001b[43mmain\u001b[49m\u001b[43m(\u001b[49m\u001b[43m)\u001b[49m\n\u001b[0;32m      7\u001b[0m features\u001b[38;5;241m.\u001b[39mmain()\n",
      "File \u001b[1;32m~\\Documents\\GitHub\\ML_Final_Project\\src\\../tools\\create_adjacency_matrix.py:152\u001b[0m, in \u001b[0;36mmain\u001b[1;34m()\u001b[0m\n\u001b[0;32m    130\u001b[0m BIBLE_REMOVE_NUMBERING_LIST \u001b[38;5;241m=\u001b[39m [\n\u001b[0;32m    131\u001b[0m     \u001b[38;5;28;01mFalse\u001b[39;00m,\n\u001b[0;32m    132\u001b[0m     \u001b[38;5;28;01mFalse\u001b[39;00m,\n\u001b[1;32m   (...)\u001b[0m\n\u001b[0;32m    148\u001b[0m     \u001b[38;5;28;01mTrue\u001b[39;00m,\n\u001b[0;32m    149\u001b[0m ]\n\u001b[0;32m    150\u001b[0m NP_INT_DATA_TYPE \u001b[38;5;241m=\u001b[39m np\u001b[38;5;241m.\u001b[39muint16\n\u001b[1;32m--> 152\u001b[0m \u001b[43mcreate_adjacency_matrix\u001b[49m\u001b[43m(\u001b[49m\u001b[43mNUM_FILES\u001b[49m\u001b[43m,\u001b[49m\u001b[43m \u001b[49m\u001b[43mINPUT_SENTENCES_FILENAMES\u001b[49m\u001b[43m,\u001b[49m\u001b[43m \u001b[49m\u001b[43mOUTPUT_ADJACENCY_FILENAMES\u001b[49m\u001b[43m,\u001b[49m\n\u001b[0;32m    153\u001b[0m \u001b[43m                        \u001b[49m\u001b[43mBIBLE_REMOVE_NUMBERING_LIST\u001b[49m\u001b[43m,\u001b[49m\u001b[43m \u001b[49m\u001b[43mNP_INT_DATA_TYPE\u001b[49m\u001b[43m)\u001b[49m\n\u001b[0;32m    155\u001b[0m \u001b[38;5;28mprint\u001b[39m(\u001b[38;5;124m\"\u001b[39m\u001b[38;5;124mfinished create_adjacency_matrix.py\u001b[39m\u001b[38;5;124m\"\u001b[39m)\n",
      "File \u001b[1;32m~\\Documents\\GitHub\\ML_Final_Project\\src\\../tools\\create_adjacency_matrix.py:62\u001b[0m, in \u001b[0;36mcreate_adjacency_matrix\u001b[1;34m(num_files, input_sentences_filenames, output_adjacency_filenames, bible_remove_numbering_list, np_int_data_type)\u001b[0m\n\u001b[0;32m     59\u001b[0m         letter_pair_dict[letter_pair] \u001b[38;5;241m=\u001b[39m \u001b[38;5;28mlen\u001b[39m(letter_pair_dict)\n\u001b[0;32m     61\u001b[0m     \u001b[38;5;28;01mif\u001b[39;00m letter_pair_idx \u001b[38;5;241m+\u001b[39m \u001b[38;5;241m1\u001b[39m \u001b[38;5;241m>\u001b[39m\u001b[38;5;241m=\u001b[39m \u001b[38;5;28mlen\u001b[39m(sample_adjacency_list):\n\u001b[1;32m---> 62\u001b[0m         sample_adjacency_list \u001b[38;5;241m=\u001b[39m \u001b[43mnp\u001b[49m\u001b[38;5;241;43m.\u001b[39;49m\u001b[43mpad\u001b[49m\u001b[43m(\u001b[49m\u001b[43msample_adjacency_list\u001b[49m\u001b[43m,\u001b[49m\u001b[43m \u001b[49m\u001b[43m(\u001b[49m\u001b[38;5;241;43m0\u001b[39;49m\u001b[43m,\u001b[49m\u001b[43m \u001b[49m\u001b[38;5;28;43mlen\u001b[39;49m\u001b[43m(\u001b[49m\u001b[43mletter_pair_dict\u001b[49m\u001b[43m)\u001b[49m\u001b[43m \u001b[49m\u001b[38;5;241;43m-\u001b[39;49m\u001b[43m \u001b[49m\u001b[38;5;28;43mlen\u001b[39;49m\u001b[43m(\u001b[49m\u001b[43msample_adjacency_list\u001b[49m\u001b[43m)\u001b[49m\u001b[43m)\u001b[49m\u001b[43m,\u001b[49m\u001b[43m \u001b[49m\u001b[43mconstant_values\u001b[49m\u001b[38;5;241;43m=\u001b[39;49m\u001b[43m(\u001b[49m\u001b[38;5;241;43m0\u001b[39;49m\u001b[43m,\u001b[49m\u001b[38;5;241;43m0\u001b[39;49m\u001b[43m)\u001b[49m\u001b[43m)\u001b[49m\n\u001b[0;32m     63\u001b[0m     sample_adjacency_list[letter_pair_idx] \u001b[38;5;241m+\u001b[39m\u001b[38;5;241m=\u001b[39m \u001b[38;5;241m1\u001b[39m\n\u001b[0;32m     64\u001b[0m \u001b[38;5;66;03m# convert letter pair counts to fixed point\u001b[39;00m\n",
      "File \u001b[1;32m~\\Documents\\GitHub\\ML_Final_Project\\venv\\Lib\\site-packages\\numpy\\lib\\_arraypad_impl.py:817\u001b[0m, in \u001b[0;36mpad\u001b[1;34m(array, pad_width, mode, **kwargs)\u001b[0m\n\u001b[0;32m    815\u001b[0m     \u001b[38;5;28;01mfor\u001b[39;00m axis, width_pair, value_pair \u001b[38;5;129;01min\u001b[39;00m \u001b[38;5;28mzip\u001b[39m(axes, pad_width, values):\n\u001b[0;32m    816\u001b[0m         roi \u001b[38;5;241m=\u001b[39m _view_roi(padded, original_area_slice, axis)\n\u001b[1;32m--> 817\u001b[0m         _set_pad_area(roi, axis, width_pair, value_pair)\n\u001b[0;32m    819\u001b[0m \u001b[38;5;28;01melif\u001b[39;00m mode \u001b[38;5;241m==\u001b[39m \u001b[38;5;124m\"\u001b[39m\u001b[38;5;124mempty\u001b[39m\u001b[38;5;124m\"\u001b[39m:\n\u001b[0;32m    820\u001b[0m     \u001b[38;5;28;01mpass\u001b[39;00m  \u001b[38;5;66;03m# Do nothing as _pad_simple already returned the correct result\u001b[39;00m\n",
      "\u001b[1;31mKeyboardInterrupt\u001b[0m: "
     ]
    }
   ],
   "source": [
    "import sys\n",
    "sys.path.insert(0, '../tools')\n",
    "\n",
    "# preprocess data (too big to fit on GitHub)\n",
    "import run_all\n",
    "run_all.main()"
   ]
  },
  {
   "cell_type": "code",
   "execution_count": null,
   "id": "6ff28de1c685ef1",
   "metadata": {},
   "outputs": [],
   "source": [
    "# run the ML model\n",
    "import ml_model\n",
    "ml_model.main()"
   ]
  },
  {
   "cell_type": "code",
   "execution_count": null,
   "id": "5723f42b",
   "metadata": {},
   "outputs": [],
   "source": [
    "# letter frequency analysis\n",
    "\n",
    "import letter_freq\n",
    "\n",
    "letter_freq.main()"
   ]
  }
 ],
 "metadata": {
  "kernelspec": {
   "display_name": "Python 3",
   "language": "python",
   "name": "python3"
  },
  "language_info": {
   "codemirror_mode": {
    "name": "ipython",
    "version": 2
   },
   "file_extension": ".py",
   "mimetype": "text/x-python",
   "name": "python",
   "nbconvert_exporter": "python",
   "pygments_lexer": "ipython2",
   "version": "2.7.6"
  }
 },
 "nbformat": 4,
 "nbformat_minor": 5
}
