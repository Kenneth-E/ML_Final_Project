{
 "cells": [
  {
   "cell_type": "code",
   "id": "initial_id",
   "metadata": {
    "collapsed": true,
    "ExecuteTime": {
     "end_time": "2024-12-18T20:36:22.131367Z",
     "start_time": "2024-12-18T20:35:55.128639Z"
    }
   },
   "source": [
    "import sys\n",
    "sys.path.insert(0, '../tools')\n",
    "\n",
    "# preprocess data (too big to fit on GitHub)\n",
    "import run_all\n",
    "run_all.main()"
   ],
   "outputs": [
    {
     "name": "stdout",
     "output_type": "stream",
     "text": [
      "beginning create_random_keyboard_mash_texts.py\n",
      "../data/raw/words/keyboard_mash_words.txt -> ../data/utterances/keyboard_mash_sentences.txt\n",
      "../data/raw/words/keyboard_mash_words.txt -> ../data/utterances/keyboard_mash_sentences_dvorak_simulated.txt\n",
      "../data/raw/words/random_words.txt -> ../data/utterances/random_sentences.txt\n",
      "ending create_random_keyboard_mash_texts.py\n",
      "beginning create_adjacency_matrix.py\n",
      "building adjacency matrix\n",
      "writing to disk\n",
      "summary\n",
      "skipped_lines: 0\n",
      "INPUT_FILENAME: ../data/utterances/keyboard_mash_sentences.txt\n",
      "OUTPUT_FILENAME: ../data/adjacency_matrices/keyboard_mash_adjacency.csv\n",
      "---------\n",
      "building adjacency matrix\n",
      "writing to disk\n",
      "summary\n",
      "skipped_lines: 0\n",
      "INPUT_FILENAME: ../data/utterances/keyboard_mash_sentences_dvorak_simulated.txt\n",
      "OUTPUT_FILENAME: ../data/adjacency_matrices/keyboard_mash_sentences_dvorak_simulated.csv\n",
      "---------\n",
      "building adjacency matrix\n"
     ]
    },
    {
     "ename": "KeyboardInterrupt",
     "evalue": "",
     "output_type": "error",
     "traceback": [
      "\u001B[1;31m---------------------------------------------------------------------------\u001B[0m",
      "\u001B[1;31mKeyboardInterrupt\u001B[0m                         Traceback (most recent call last)",
      "Cell \u001B[1;32mIn[1], line 3\u001B[0m\n\u001B[0;32m      1\u001B[0m \u001B[38;5;28;01mimport\u001B[39;00m \u001B[38;5;21;01msys\u001B[39;00m\n\u001B[0;32m      2\u001B[0m sys\u001B[38;5;241m.\u001B[39mpath\u001B[38;5;241m.\u001B[39minsert(\u001B[38;5;241m0\u001B[39m, \u001B[38;5;124m'\u001B[39m\u001B[38;5;124m../tools\u001B[39m\u001B[38;5;124m'\u001B[39m)\n\u001B[1;32m----> 3\u001B[0m \u001B[38;5;28;01mimport\u001B[39;00m \u001B[38;5;21;01mrun_all\u001B[39;00m\n",
      "File \u001B[1;32m~\\Documents\\GitHub\\ML_Final_Project\\src\\../tools\\run_all.py:6\u001B[0m\n\u001B[0;32m      3\u001B[0m \u001B[38;5;28;01mimport\u001B[39;00m \u001B[38;5;21;01mcreate_overall_feature_file\u001B[39;00m \u001B[38;5;28;01mas\u001B[39;00m \u001B[38;5;21;01mfeatures\u001B[39;00m\n\u001B[0;32m      5\u001B[0m mash\u001B[38;5;241m.\u001B[39mmain()\n\u001B[1;32m----> 6\u001B[0m \u001B[43mmatrix\u001B[49m\u001B[38;5;241;43m.\u001B[39;49m\u001B[43mmain\u001B[49m\u001B[43m(\u001B[49m\u001B[43m)\u001B[49m\n\u001B[0;32m      7\u001B[0m features\u001B[38;5;241m.\u001B[39mmain()\n",
      "File \u001B[1;32m~\\Documents\\GitHub\\ML_Final_Project\\src\\../tools\\create_adjacency_matrix.py:152\u001B[0m, in \u001B[0;36mmain\u001B[1;34m()\u001B[0m\n\u001B[0;32m    130\u001B[0m BIBLE_REMOVE_NUMBERING_LIST \u001B[38;5;241m=\u001B[39m [\n\u001B[0;32m    131\u001B[0m     \u001B[38;5;28;01mFalse\u001B[39;00m,\n\u001B[0;32m    132\u001B[0m     \u001B[38;5;28;01mFalse\u001B[39;00m,\n\u001B[1;32m   (...)\u001B[0m\n\u001B[0;32m    148\u001B[0m     \u001B[38;5;28;01mTrue\u001B[39;00m,\n\u001B[0;32m    149\u001B[0m ]\n\u001B[0;32m    150\u001B[0m NP_INT_DATA_TYPE \u001B[38;5;241m=\u001B[39m np\u001B[38;5;241m.\u001B[39muint16\n\u001B[1;32m--> 152\u001B[0m \u001B[43mcreate_adjacency_matrix\u001B[49m\u001B[43m(\u001B[49m\u001B[43mNUM_FILES\u001B[49m\u001B[43m,\u001B[49m\u001B[43m \u001B[49m\u001B[43mINPUT_SENTENCES_FILENAMES\u001B[49m\u001B[43m,\u001B[49m\u001B[43m \u001B[49m\u001B[43mOUTPUT_ADJACENCY_FILENAMES\u001B[49m\u001B[43m,\u001B[49m\n\u001B[0;32m    153\u001B[0m \u001B[43m                        \u001B[49m\u001B[43mBIBLE_REMOVE_NUMBERING_LIST\u001B[49m\u001B[43m,\u001B[49m\u001B[43m \u001B[49m\u001B[43mNP_INT_DATA_TYPE\u001B[49m\u001B[43m)\u001B[49m\n\u001B[0;32m    155\u001B[0m \u001B[38;5;28mprint\u001B[39m(\u001B[38;5;124m\"\u001B[39m\u001B[38;5;124mfinished create_adjacency_matrix.py\u001B[39m\u001B[38;5;124m\"\u001B[39m)\n",
      "File \u001B[1;32m~\\Documents\\GitHub\\ML_Final_Project\\src\\../tools\\create_adjacency_matrix.py:62\u001B[0m, in \u001B[0;36mcreate_adjacency_matrix\u001B[1;34m(num_files, input_sentences_filenames, output_adjacency_filenames, bible_remove_numbering_list, np_int_data_type)\u001B[0m\n\u001B[0;32m     59\u001B[0m         letter_pair_dict[letter_pair] \u001B[38;5;241m=\u001B[39m \u001B[38;5;28mlen\u001B[39m(letter_pair_dict)\n\u001B[0;32m     61\u001B[0m     \u001B[38;5;28;01mif\u001B[39;00m letter_pair_idx \u001B[38;5;241m+\u001B[39m \u001B[38;5;241m1\u001B[39m \u001B[38;5;241m>\u001B[39m\u001B[38;5;241m=\u001B[39m \u001B[38;5;28mlen\u001B[39m(sample_adjacency_list):\n\u001B[1;32m---> 62\u001B[0m         sample_adjacency_list \u001B[38;5;241m=\u001B[39m \u001B[43mnp\u001B[49m\u001B[38;5;241;43m.\u001B[39;49m\u001B[43mpad\u001B[49m\u001B[43m(\u001B[49m\u001B[43msample_adjacency_list\u001B[49m\u001B[43m,\u001B[49m\u001B[43m \u001B[49m\u001B[43m(\u001B[49m\u001B[38;5;241;43m0\u001B[39;49m\u001B[43m,\u001B[49m\u001B[43m \u001B[49m\u001B[38;5;28;43mlen\u001B[39;49m\u001B[43m(\u001B[49m\u001B[43mletter_pair_dict\u001B[49m\u001B[43m)\u001B[49m\u001B[43m \u001B[49m\u001B[38;5;241;43m-\u001B[39;49m\u001B[43m \u001B[49m\u001B[38;5;28;43mlen\u001B[39;49m\u001B[43m(\u001B[49m\u001B[43msample_adjacency_list\u001B[49m\u001B[43m)\u001B[49m\u001B[43m)\u001B[49m\u001B[43m,\u001B[49m\u001B[43m \u001B[49m\u001B[43mconstant_values\u001B[49m\u001B[38;5;241;43m=\u001B[39;49m\u001B[43m(\u001B[49m\u001B[38;5;241;43m0\u001B[39;49m\u001B[43m,\u001B[49m\u001B[38;5;241;43m0\u001B[39;49m\u001B[43m)\u001B[49m\u001B[43m)\u001B[49m\n\u001B[0;32m     63\u001B[0m     sample_adjacency_list[letter_pair_idx] \u001B[38;5;241m+\u001B[39m\u001B[38;5;241m=\u001B[39m \u001B[38;5;241m1\u001B[39m\n\u001B[0;32m     64\u001B[0m \u001B[38;5;66;03m# convert letter pair counts to fixed point\u001B[39;00m\n",
      "File \u001B[1;32m~\\Documents\\GitHub\\ML_Final_Project\\venv\\Lib\\site-packages\\numpy\\lib\\_arraypad_impl.py:817\u001B[0m, in \u001B[0;36mpad\u001B[1;34m(array, pad_width, mode, **kwargs)\u001B[0m\n\u001B[0;32m    815\u001B[0m     \u001B[38;5;28;01mfor\u001B[39;00m axis, width_pair, value_pair \u001B[38;5;129;01min\u001B[39;00m \u001B[38;5;28mzip\u001B[39m(axes, pad_width, values):\n\u001B[0;32m    816\u001B[0m         roi \u001B[38;5;241m=\u001B[39m _view_roi(padded, original_area_slice, axis)\n\u001B[1;32m--> 817\u001B[0m         _set_pad_area(roi, axis, width_pair, value_pair)\n\u001B[0;32m    819\u001B[0m \u001B[38;5;28;01melif\u001B[39;00m mode \u001B[38;5;241m==\u001B[39m \u001B[38;5;124m\"\u001B[39m\u001B[38;5;124mempty\u001B[39m\u001B[38;5;124m\"\u001B[39m:\n\u001B[0;32m    820\u001B[0m     \u001B[38;5;28;01mpass\u001B[39;00m  \u001B[38;5;66;03m# Do nothing as _pad_simple already returned the correct result\u001B[39;00m\n",
      "\u001B[1;31mKeyboardInterrupt\u001B[0m: "
     ]
    }
   ],
   "execution_count": 1
  },
  {
   "metadata": {},
   "cell_type": "code",
   "outputs": [],
   "execution_count": null,
   "source": [
    "# run the ML model\n",
    "import ml_model\n",
    "ml_model.main()"
   ],
   "id": "6ff28de1c685ef1"
  }
 ],
 "metadata": {
  "kernelspec": {
   "display_name": "Python 3",
   "language": "python",
   "name": "python3"
  },
  "language_info": {
   "codemirror_mode": {
    "name": "ipython",
    "version": 2
   },
   "file_extension": ".py",
   "mimetype": "text/x-python",
   "name": "python",
   "nbconvert_exporter": "python",
   "pygments_lexer": "ipython2",
   "version": "2.7.6"
  }
 },
 "nbformat": 4,
 "nbformat_minor": 5
}
