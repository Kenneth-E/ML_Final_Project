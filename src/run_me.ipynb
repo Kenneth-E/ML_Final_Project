{
 "cells": [
  {
   "cell_type": "code",
   "id": "initial_id",
   "metadata": {
    "collapsed": true
   },
   "source": [
    "import sys\n",
    "sys.path.insert(0, '../tools')\n",
    "\n",
    "# preprocess data (too big to fit on GitHub)\n",
    "# WARNING: this will run out of memory if you do not have more than 16 GB of memory on your computer\n",
    "# We recommend using the preprocessed data provided in ./data/combined_features/combined_features.zip\n",
    "import run_all\n",
    "run_all.main()"
   ],
   "outputs": [],
   "execution_count": null
  },
  {
   "cell_type": "code",
   "execution_count": null,
   "id": "6ff28de1c685ef1",
   "metadata": {},
   "outputs": [],
   "source": [
    "# run the ML model\n",
    "import ml_model\n",
    "ml_model.main()"
   ]
  },
  {
   "cell_type": "code",
   "execution_count": null,
   "id": "5723f42b",
   "metadata": {},
   "outputs": [],
   "source": [
    "# letter frequency analysis\n",
    "\n",
    "import letter_freq\n",
    "\n",
    "letter_freq.main()"
   ]
  },
  {
   "metadata": {},
   "cell_type": "code",
   "outputs": [],
   "execution_count": null,
   "source": [
    "# wiktionary analysis\n",
    "# download raw-wiktextract-data.jsonl from https://kaikki.org/dictionary/rawdata.html into ./data/wiktionary and unzip if necessary\n",
    "\n",
    "import wiktionary\n",
    "\n",
    "wiktionary.main()"
   ],
   "id": "a7f35f3902fff148"
  }
 ],
 "metadata": {
  "kernelspec": {
   "display_name": "Python 3",
   "language": "python",
   "name": "python3"
  },
  "language_info": {
   "codemirror_mode": {
    "name": "ipython",
    "version": 3
   },
   "file_extension": ".py",
   "mimetype": "text/x-python",
   "name": "python",
   "nbconvert_exporter": "python",
   "pygments_lexer": "ipython3",
   "version": "3.10.0"
  }
 },
 "nbformat": 4,
 "nbformat_minor": 5
}
