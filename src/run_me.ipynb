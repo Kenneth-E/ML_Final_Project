{
 "cells": [
  {
   "cell_type": "code",
   "id": "initial_id",
   "metadata": {
    "collapsed": true
   },
   "source": [
    "import sys\n",
    "sys.path.insert(0, '../tools')\n",
    "\n",
    "# preprocess data (too big to fit on GitHub)\n",
    "import run_all\n",
    "run_all.main()"
   ],
   "outputs": [],
   "execution_count": null
  },
  {
   "cell_type": "code",
   "execution_count": null,
   "id": "6ff28de1c685ef1",
   "metadata": {},
   "outputs": [],
   "source": [
    "# run the ML model\n",
    "import ml_model\n",
    "ml_model.main()"
   ]
  },
  {
   "cell_type": "code",
   "execution_count": null,
   "id": "5723f42b",
   "metadata": {},
   "outputs": [],
   "source": [
    "# letter frequency analysis\n",
    "\n",
    "import letter_freq\n",
    "\n",
    "letter_freq.main()"
   ]
  },
  {
   "metadata": {},
   "cell_type": "code",
   "outputs": [],
   "execution_count": null,
   "source": [
    "# wiktionary analysis\n",
    "\n",
    "import wiktionary\n",
    "\n",
    "wiktionary.main()"
   ],
   "id": "a7f35f3902fff148"
  }
 ],
 "metadata": {
  "kernelspec": {
   "display_name": "Python 3",
   "language": "python",
   "name": "python3"
  },
  "language_info": {
   "codemirror_mode": {
    "name": "ipython",
    "version": 2
   },
   "file_extension": ".py",
   "mimetype": "text/x-python",
   "name": "python",
   "nbconvert_exporter": "python",
   "pygments_lexer": "ipython2",
   "version": "2.7.6"
  }
 },
 "nbformat": 4,
 "nbformat_minor": 5
}
